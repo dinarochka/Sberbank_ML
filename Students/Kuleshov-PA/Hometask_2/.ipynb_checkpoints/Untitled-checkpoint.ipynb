{
 "cells": [
  {
   "cell_type": "code",
   "execution_count": 1,
   "metadata": {},
   "outputs": [],
   "source": [
    "import pandas as pd\n",
    "import numpy as np\n",
    "import matplotlib.pyplot as plt\n",
    "%matplotlib inline\n",
    "import seaborn as sns"
   ]
  },
  {
   "cell_type": "code",
   "execution_count": 2,
   "metadata": {},
   "outputs": [],
   "source": [
    "train = pd.read_csv(\"train.csv\", header = 0)\n",
    "test = pd.read_csv(\"test.csv\", header = 0)\n",
    "labels = train.SalePrice"
   ]
  },
  {
   "cell_type": "code",
   "execution_count": 3,
   "metadata": {},
   "outputs": [],
   "source": [
    "train_temp = train[\"SalePrice\"].copy()"
   ]
  },
  {
   "cell_type": "code",
   "execution_count": 4,
   "metadata": {},
   "outputs": [],
   "source": [
    "train.drop([\"Id\", \"SalePrice\"], axis=1, inplace=True)\n",
    "test.drop([\"Id\"], axis=1, inplace=True)"
   ]
  },
  {
   "cell_type": "code",
   "execution_count": 5,
   "metadata": {},
   "outputs": [
    {
     "name": "stdout",
     "output_type": "stream",
     "text": [
      "Name           \tNaNs\t#unique\n",
      "MSSubClass     \t0.0000\t15\n",
      "MSZoning       \t0.0000\t5\n",
      "LotFrontage    \t0.1774\t110\n",
      "LotArea        \t0.0000\t1073\n",
      "Street         \t0.0000\t2\n",
      "Alley          \t0.9377\t2\n",
      "LotShape       \t0.0000\t4\n",
      "LandContour    \t0.0000\t4\n",
      "Utilities      \t0.0000\t2\n",
      "LotConfig      \t0.0000\t5\n",
      "LandSlope      \t0.0000\t3\n",
      "Neighborhood   \t0.0000\t25\n",
      "Condition1     \t0.0000\t9\n",
      "Condition2     \t0.0000\t8\n",
      "BldgType       \t0.0000\t5\n",
      "HouseStyle     \t0.0000\t8\n",
      "OverallQual    \t0.0000\t10\n",
      "OverallCond    \t0.0000\t9\n",
      "YearBuilt      \t0.0000\t112\n",
      "YearRemodAdd   \t0.0000\t61\n",
      "RoofStyle      \t0.0000\t6\n",
      "RoofMatl       \t0.0000\t8\n",
      "Exterior1st    \t0.0000\t15\n",
      "Exterior2nd    \t0.0000\t16\n",
      "MasVnrType     \t0.0055\t4\n",
      "MasVnrArea     \t0.0055\t327\n",
      "ExterQual      \t0.0000\t4\n",
      "ExterCond      \t0.0000\t5\n",
      "Foundation     \t0.0000\t6\n",
      "BsmtQual       \t0.0253\t4\n",
      "BsmtCond       \t0.0253\t4\n",
      "BsmtExposure   \t0.0260\t4\n",
      "BsmtFinType1   \t0.0253\t6\n",
      "BsmtFinSF1     \t0.0000\t637\n",
      "BsmtFinType2   \t0.0260\t6\n",
      "BsmtFinSF2     \t0.0000\t144\n",
      "BsmtUnfSF      \t0.0000\t780\n",
      "TotalBsmtSF    \t0.0000\t721\n",
      "Heating        \t0.0000\t6\n",
      "HeatingQC      \t0.0000\t5\n",
      "CentralAir     \t0.0000\t2\n",
      "Electrical     \t0.0007\t5\n",
      "1stFlrSF       \t0.0000\t753\n",
      "2ndFlrSF       \t0.0000\t417\n",
      "LowQualFinSF   \t0.0000\t24\n",
      "GrLivArea      \t0.0000\t861\n",
      "BsmtFullBath   \t0.0000\t4\n",
      "BsmtHalfBath   \t0.0000\t3\n",
      "FullBath       \t0.0000\t4\n",
      "HalfBath       \t0.0000\t3\n",
      "BedroomAbvGr   \t0.0000\t8\n",
      "KitchenAbvGr   \t0.0000\t4\n",
      "KitchenQual    \t0.0000\t4\n",
      "TotRmsAbvGrd   \t0.0000\t12\n",
      "Functional     \t0.0000\t7\n",
      "Fireplaces     \t0.0000\t4\n",
      "FireplaceQu    \t0.4726\t5\n",
      "GarageType     \t0.0555\t6\n",
      "GarageYrBlt    \t0.0555\t97\n",
      "GarageFinish   \t0.0555\t3\n",
      "GarageCars     \t0.0000\t5\n",
      "GarageArea     \t0.0000\t441\n",
      "GarageQual     \t0.0555\t5\n",
      "GarageCond     \t0.0555\t5\n",
      "PavedDrive     \t0.0000\t3\n",
      "WoodDeckSF     \t0.0000\t274\n",
      "OpenPorchSF    \t0.0000\t202\n",
      "EnclosedPorch  \t0.0000\t120\n",
      "3SsnPorch      \t0.0000\t20\n",
      "ScreenPorch    \t0.0000\t76\n",
      "PoolArea       \t0.0000\t8\n",
      "PoolQC         \t0.9952\t3\n",
      "Fence          \t0.8075\t4\n",
      "MiscFeature    \t0.9630\t4\n",
      "MiscVal        \t0.0000\t21\n",
      "MoSold         \t0.0000\t12\n",
      "YrSold         \t0.0000\t5\n",
      "SaleType       \t0.0000\t9\n",
      "SaleCondition  \t0.0000\t6\n"
     ]
    }
   ],
   "source": [
    "print(\"{0:15}\\t{1}\\t{2}\".format(\"Name\", \"NaNs\", \"#unique\"))\n",
    "for col in train.columns:\n",
    "    print(\"{0:15}\\t{1:.4f}\\t{2}\".format(col, train[col].isnull().mean(), train[col].nunique()))"
   ]
  },
  {
   "cell_type": "markdown",
   "metadata": {},
   "source": [
    "Здесь представлены, как количественные (площадь участка, кол-во комнат, площадь этажей и т.п.), так и качественные (класс здания, год постройки, форма участка, материал крыши и т.п.) признаки. Также можем выделить набор признаков для описания гаража, набор для описания подвала, для жилой части здания и т.п."
   ]
  },
  {
   "cell_type": "code",
   "execution_count": 6,
   "metadata": {},
   "outputs": [],
   "source": [
    "all = pd.concat([train, test], axis=0)"
   ]
  },
  {
   "cell_type": "code",
   "execution_count": 7,
   "metadata": {},
   "outputs": [],
   "source": [
    "to_drop = [\"Street\",\"Utilities\",\"MiscFeature\"]\n",
    "all.drop(to_drop, axis=1, inplace=True, errors=\"ignore\")\n",
    "\n",
    "to_replace_to_none = [\"Fence\", \"FireplaceQu\", \"Alley\",\"MasVnrType\",\"BsmtQual\",\"BsmtCond\",\"BsmtExposure\",\"BsmtFinType1\"\n",
    "                     ,\"BsmtFinType2\",\"Electrical\",\"GarageType\",\"GarageFinish\",\"GarageQual\",\"GarageCond\",\"PoolQC\"]\n",
    "for col in to_replace_to_none:\n",
    "    all[col].fillna(\"No\" + col, inplace=True)\n",
    "    \n",
    "#to_replace_to_zero = [\"BsmtFinSF1\", \"BsmtFinSF2\", \"BsmtUnfSF\",\"TotalBsmtSF\",\"BsmtHalfBath\"\n",
    "#                     ,\"MasVnrArea\",\"GarageArea\",\"BsmtFullBath\"]\n",
    "#for col in to_replace_to_zero:\n",
    "#    all[col].fillna(0, inplace=True)\n",
    "    \n",
    "#to_replace_to_avg = [\"LotFrontage\"]\n",
    "#for col in to_replace_to_avg:\n",
    "#    all[col].fillna(all[col].mean(), inplace=True)\n",
    "    \n",
    "all[\"KitchenQual\"].fillna(\"TA\", inplace=True)\n",
    "    \n",
    "all.fillna(0, inplace=True)"
   ]
  },
  {
   "cell_type": "code",
   "execution_count": 8,
   "metadata": {},
   "outputs": [],
   "source": [
    "def binarize(data, columns):\n",
    "    \"\"\"\n",
    "    binarize feature\n",
    "    \n",
    "    data: pd.csv dataset\n",
    "    columns: list of cstegorical columns to process\n",
    "    \"\"\"\n",
    "    binarized_data = data.copy()\n",
    "    for column in columns:\n",
    "        unique_items = set(data[column])\n",
    "        for unique_item in unique_items:\n",
    "            new_column = []\n",
    "            for item in data[column]:\n",
    "                new_column.append(int(item==unique_item))\n",
    "            binarized_data[column+'_'+str(unique_item)] = new_column\n",
    "        binarized_data.drop(column, axis=1, inplace=True)\n",
    "    return binarized_data"
   ]
  },
  {
   "cell_type": "code",
   "execution_count": 9,
   "metadata": {},
   "outputs": [
    {
     "data": {
      "text/html": [
       "<div>\n",
       "<style scoped>\n",
       "    .dataframe tbody tr th:only-of-type {\n",
       "        vertical-align: middle;\n",
       "    }\n",
       "\n",
       "    .dataframe tbody tr th {\n",
       "        vertical-align: top;\n",
       "    }\n",
       "\n",
       "    .dataframe thead th {\n",
       "        text-align: right;\n",
       "    }\n",
       "</style>\n",
       "<table border=\"1\" class=\"dataframe\">\n",
       "  <thead>\n",
       "    <tr style=\"text-align: right;\">\n",
       "      <th></th>\n",
       "      <th>LotArea</th>\n",
       "      <th>LotFrontage</th>\n",
       "      <th>YearBuilt</th>\n",
       "    </tr>\n",
       "  </thead>\n",
       "  <tbody>\n",
       "    <tr>\n",
       "      <th>count</th>\n",
       "      <td>2919.000000</td>\n",
       "      <td>2919.000000</td>\n",
       "      <td>2919.000000</td>\n",
       "    </tr>\n",
       "    <tr>\n",
       "      <th>mean</th>\n",
       "      <td>10168.114080</td>\n",
       "      <td>57.766701</td>\n",
       "      <td>1971.312778</td>\n",
       "    </tr>\n",
       "    <tr>\n",
       "      <th>std</th>\n",
       "      <td>7886.996359</td>\n",
       "      <td>33.481636</td>\n",
       "      <td>30.291442</td>\n",
       "    </tr>\n",
       "    <tr>\n",
       "      <th>min</th>\n",
       "      <td>1300.000000</td>\n",
       "      <td>0.000000</td>\n",
       "      <td>1872.000000</td>\n",
       "    </tr>\n",
       "    <tr>\n",
       "      <th>25%</th>\n",
       "      <td>7478.000000</td>\n",
       "      <td>43.000000</td>\n",
       "      <td>1953.500000</td>\n",
       "    </tr>\n",
       "    <tr>\n",
       "      <th>50%</th>\n",
       "      <td>9453.000000</td>\n",
       "      <td>63.000000</td>\n",
       "      <td>1973.000000</td>\n",
       "    </tr>\n",
       "    <tr>\n",
       "      <th>75%</th>\n",
       "      <td>11570.000000</td>\n",
       "      <td>78.000000</td>\n",
       "      <td>2001.000000</td>\n",
       "    </tr>\n",
       "    <tr>\n",
       "      <th>max</th>\n",
       "      <td>215245.000000</td>\n",
       "      <td>313.000000</td>\n",
       "      <td>2010.000000</td>\n",
       "    </tr>\n",
       "  </tbody>\n",
       "</table>\n",
       "</div>"
      ],
      "text/plain": [
       "             LotArea  LotFrontage    YearBuilt\n",
       "count    2919.000000  2919.000000  2919.000000\n",
       "mean    10168.114080    57.766701  1971.312778\n",
       "std      7886.996359    33.481636    30.291442\n",
       "min      1300.000000     0.000000  1872.000000\n",
       "25%      7478.000000    43.000000  1953.500000\n",
       "50%      9453.000000    63.000000  1973.000000\n",
       "75%     11570.000000    78.000000  2001.000000\n",
       "max    215245.000000   313.000000  2010.000000"
      ]
     },
     "execution_count": 9,
     "metadata": {},
     "output_type": "execute_result"
    }
   ],
   "source": [
    "all[['LotArea', 'LotFrontage', 'YearBuilt']].describe()"
   ]
  },
  {
   "cell_type": "code",
   "execution_count": 10,
   "metadata": {},
   "outputs": [],
   "source": [
    "all = binarize(all, [\"LandContour\",\"LotConfig\",\"LotShape\",\"LandSlope\",\"Neighborhood\",\"BldgType\",\"HouseStyle\", \"ExterQual\"\n",
    "                     ,\"CentralAir\", \"SaleCondition\", \"PavedDrive\", \"KitchenQual\"\n",
    "                    ])"
   ]
  },
  {
   "cell_type": "code",
   "execution_count": 11,
   "metadata": {},
   "outputs": [],
   "source": [
    "categorial = [\"Condition1\", \"Condition2\", \"FireplaceQu\",\"Exterior1st\", \"Exterior2nd\", \"RoofMatl\",\"Alley\"\n",
    "              , \"MasVnrType\",\"ExterCond\",\"RoofStyle\", \"Electrical\", \"Heating\",\"SaleType\", \"HeatingQC\"\n",
    "                  , \"Foundation\", \"BsmtQual\", \"BsmtCond\", \"BsmtFinType1\", \"BsmtFinType2\",\"MSZoning\"\n",
    "                   , \"Functional\", \"GarageFinish\", \"BsmtExposure\",\"GarageType\", \"Fence\"\n",
    "                    , \"GarageQual\", \"GarageCond\"]\n",
    "for col in categorial:\n",
    "    all[col] = all[col].factorize()[0]"
   ]
  },
  {
   "cell_type": "code",
   "execution_count": 12,
   "metadata": {},
   "outputs": [],
   "source": [
    "to_drop = ['GarageArea', 'GarageYrBlt', \"PoolQC\", \"MSSubClass\",\"MoSold\"\n",
    "          , \"Electrical\", \"Heating\", \"Functional\", \"FireplaceQu\"\n",
    "          ,\"SaleType\",\"ScreenPorch\",\"YearRemodAdd\",\"BsmtFullBath\",\"BsmtHalfBath\"\n",
    "          ,\"BsmtFinSF1\",\"BsmtFinSF2\",\"BsmtUnfSF\",\"1stFlrSF\",\"2ndFlrSF\",\"LowQualFinSF\"\n",
    "          , \"GarageCond\", \"WoodDeckSF\", \"OpenPorchSF\", \"EnclosedPorch\", \"3SsnPorch\", \"ScreenPorch\"\n",
    "          #,\"BsmtHalfBath\"\n",
    "          ]\n",
    "all = all.drop(to_drop, axis=1)"
   ]
  },
  {
   "cell_type": "code",
   "execution_count": 13,
   "metadata": {},
   "outputs": [],
   "source": [
    "buck = [\"YearBuilt\"#,\"GrLivArea\",\"TotalBsmtSF\"        ,\"LotArea\",\"LotFrontage\"\n",
    "       ]\n",
    "coef = [[1850,1940,1960,1980,1990,2000,2005,2100],\n",
    "        #[100,500,1000,1500,2000,10000],\n",
    "       # [100,500,1000,1500,10000],\n",
    "        #[1000,3000,5000,7000,9000,11000,13000,15000,17000,20000,20000000],\n",
    "       # [20,50,100,10000]\n",
    "       ]"
   ]
  },
  {
   "cell_type": "code",
   "execution_count": 14,
   "metadata": {},
   "outputs": [],
   "source": [
    "for x in range(len(buck)):\n",
    "    bucketed = np.array(all[buck[x]])\n",
    "    for y in range(len(coef[x])-1):\n",
    "        bucketed[(bucketed >= coef[x][y]) & (bucketed < coef[x][y+1])] = coef[x][y]\n",
    "    all[buck[x]] = bucketed"
   ]
  },
  {
   "cell_type": "code",
   "execution_count": 15,
   "metadata": {},
   "outputs": [],
   "source": [
    "to_flat = [\"TotRmsAbvGrd\",\"HalfBath\",\"BedroomAbvGr\",\"GarageCars\",\"PoolArea\"]#,\"YearBuilt\",\"GrLivArea\",\"LotArea\",\"LotFrontage\"]\n",
    "    #,\"BsmtFullBath\",\"BsmtHalfBath\"]\n",
    "coef = [10,1,4,3,100]#,2015,2500,20000,100]\n",
    "for x in range(len(to_flat)):\n",
    "    flatten = np.array(all[to_flat[x]]) \n",
    "    flatten[flatten >= coef[x]] = coef[x]\n",
    "    all[to_flat[x]] = flatten"
   ]
  },
  {
   "cell_type": "markdown",
   "metadata": {
    "scrolled": true
   },
   "source": [
    "e = pd.Series(train_temp)\n",
    "train_temp = all.iloc[:train.shape[0]].astype('float').assign(e=e.values)\n",
    "corr_matrix1 = train_temp.corr().abs()\n",
    "upper1 = corr_matrix1.where(np.triu(np.ones(corr_matrix1.shape), k=1).astype(np.bool))\n",
    "upper1[\"e\"]"
   ]
  },
  {
   "cell_type": "markdown",
   "metadata": {
    "scrolled": true
   },
   "source": [
    "s1 = upper1[\"SalePrice\"]\n",
    "all = all.drop(s1[s1<0.05].index, axis=1)"
   ]
  },
  {
   "cell_type": "code",
   "execution_count": 16,
   "metadata": {},
   "outputs": [],
   "source": [
    "corr_matrix = all.corr().abs()\n",
    "upper = corr_matrix.where(np.triu(np.ones(corr_matrix.shape), k=1).astype(np.bool))"
   ]
  },
  {
   "cell_type": "code",
   "execution_count": 17,
   "metadata": {},
   "outputs": [],
   "source": [
    "train = all.iloc[:train.shape[0]].astype('float')\n",
    "test = all.iloc[train.shape[0]:].astype('float')"
   ]
  },
  {
   "cell_type": "markdown",
   "metadata": {},
   "source": [
    "Linear Regression"
   ]
  },
  {
   "cell_type": "code",
   "execution_count": 18,
   "metadata": {},
   "outputs": [],
   "source": [
    "import matplotlib.pyplot as plt\n",
    "import numpy as np\n",
    "from sklearn import datasets, linear_model\n",
    "from sklearn.metrics import mean_squared_error, r2_score\n",
    "from sklearn.model_selection import cross_val_score\n",
    "from sklearn.linear_model import LinearRegression\n",
    "from sklearn.linear_model import LogisticRegression"
   ]
  },
  {
   "cell_type": "code",
   "execution_count": 19,
   "metadata": {},
   "outputs": [],
   "source": [
    "def submit(preds):\n",
    "    submission = pd.read_csv(\"sample_submission.csv\")\n",
    "    submission[\"SalePrice\"] = preds\n",
    "    submission.to_csv(\"submission.csv\", index=False)"
   ]
  },
  {
   "cell_type": "code",
   "execution_count": 20,
   "metadata": {},
   "outputs": [],
   "source": [
    "regr = LinearRegression(normalize=True, n_jobs=1)\n",
    "regr.fit(train, np.log1p(labels))\n",
    "preds = regr.predict(test)\n",
    "submit(np.expm1(preds))"
   ]
  },
  {
   "cell_type": "code",
   "execution_count": 21,
   "metadata": {
    "scrolled": true
   },
   "outputs": [
    {
     "name": "stdout",
     "output_type": "stream",
     "text": [
      "Coefficients: \n",
      " [-2.64508813e-04 -1.63007941e-04  1.46539079e-06  1.32922297e-02\n",
      " -4.89144374e-03 -3.31155310e-02  5.85306649e-02  4.16098894e-02\n",
      "  6.26686096e-04  2.98960418e-02 -4.40885787e-02  1.87262110e-03\n",
      " -2.39550491e-03 -2.66319293e-03 -2.47209131e-05 -1.14439146e-02\n",
      " -1.84015441e-02  2.90656058e-03 -1.07946354e-02  4.29410738e-03\n",
      " -1.21292463e-02  4.94262209e-03  6.39229487e-05 -1.30437066e-02\n",
      "  2.16825111e-04  3.80906339e-02  4.29824087e-02 -2.42823727e-03\n",
      " -9.65114754e-02  1.28355053e-02  3.29908935e-02 -1.25095938e-02\n",
      "  5.25871029e-03  5.91537001e-02  4.21060744e-03 -1.00582251e-03\n",
      " -2.31304529e-04  6.39778624e-07 -2.92602950e-03 -5.84209312e+10\n",
      " -5.84209312e+10 -5.84209313e+10 -5.84209312e+10  1.08013790e+11\n",
      "  1.08013790e+11  1.08013790e+11  1.08013790e+11  1.08013790e+11\n",
      "  3.09499366e+10  3.09499366e+10  3.09499366e+10  3.09499366e+10\n",
      " -1.40276878e+10 -1.40276878e+10 -1.40276878e+10  3.91887217e+10\n",
      "  3.91887217e+10  3.91887217e+10  3.91887217e+10  3.91887217e+10\n",
      "  3.91887217e+10  3.91887217e+10  3.91887217e+10  3.91887217e+10\n",
      "  3.91887217e+10  3.91887217e+10  3.91887217e+10  3.91887217e+10\n",
      "  3.91887217e+10  3.91887217e+10  3.91887217e+10  3.91887217e+10\n",
      "  3.91887217e+10  3.91887217e+10  3.91887217e+10  3.91887217e+10\n",
      "  3.91887217e+10  3.91887217e+10  3.91887217e+10  3.91887217e+10\n",
      " -2.00659741e+10 -2.00659741e+10 -2.00659741e+10 -2.00659741e+10\n",
      " -2.00659741e+10 -9.15656270e+10 -9.15656270e+10 -9.15656270e+10\n",
      " -9.15656270e+10 -9.15656270e+10 -9.15656270e+10 -9.15656270e+10\n",
      " -9.15656270e+10  1.16110932e+11  1.16110932e+11  1.16110932e+11\n",
      "  1.16110932e+11  8.11771905e+09  8.11771905e+09  2.01567231e+11\n",
      "  2.01567231e+11  2.01567231e+11  2.01567231e+11  2.01567231e+11\n",
      "  2.01567231e+11  4.96176720e+11  4.96176720e+11  4.96176720e+11\n",
      "  1.18016081e+11  1.18016081e+11  1.18016081e+11  1.18016081e+11]\n"
     ]
    }
   ],
   "source": [
    "print('Coefficients: \\n', regr.coef_)"
   ]
  },
  {
   "cell_type": "code",
   "execution_count": 22,
   "metadata": {},
   "outputs": [],
   "source": [
    "from sklearn.model_selection import KFold\n",
    "\n",
    "cv = KFold(n_splits=7, random_state=0)"
   ]
  },
  {
   "cell_type": "code",
   "execution_count": 23,
   "metadata": {
    "scrolled": true
   },
   "outputs": [
    {
     "name": "stderr",
     "output_type": "stream",
     "text": [
      "C:\\Users\\ManaUlcho\\Anaconda3\\lib\\site-packages\\sklearn\\metrics\\scorer.py:100: DeprecationWarning: Scoring method mean_squared_error was renamed to neg_mean_squared_error in version 0.18 and will be removed in 0.20.\n",
      "  sample_weight=sample_weight)\n",
      "C:\\Users\\ManaUlcho\\Anaconda3\\lib\\site-packages\\sklearn\\metrics\\scorer.py:100: DeprecationWarning: Scoring method mean_squared_error was renamed to neg_mean_squared_error in version 0.18 and will be removed in 0.20.\n",
      "  sample_weight=sample_weight)\n",
      "C:\\Users\\ManaUlcho\\Anaconda3\\lib\\site-packages\\sklearn\\metrics\\scorer.py:100: DeprecationWarning: Scoring method mean_squared_error was renamed to neg_mean_squared_error in version 0.18 and will be removed in 0.20.\n",
      "  sample_weight=sample_weight)\n",
      "C:\\Users\\ManaUlcho\\Anaconda3\\lib\\site-packages\\sklearn\\metrics\\scorer.py:100: DeprecationWarning: Scoring method mean_squared_error was renamed to neg_mean_squared_error in version 0.18 and will be removed in 0.20.\n",
      "  sample_weight=sample_weight)\n",
      "C:\\Users\\ManaUlcho\\Anaconda3\\lib\\site-packages\\sklearn\\metrics\\scorer.py:100: DeprecationWarning: Scoring method mean_squared_error was renamed to neg_mean_squared_error in version 0.18 and will be removed in 0.20.\n",
      "  sample_weight=sample_weight)\n",
      "C:\\Users\\ManaUlcho\\Anaconda3\\lib\\site-packages\\sklearn\\metrics\\scorer.py:100: DeprecationWarning: Scoring method mean_squared_error was renamed to neg_mean_squared_error in version 0.18 and will be removed in 0.20.\n",
      "  sample_weight=sample_weight)\n",
      "C:\\Users\\ManaUlcho\\Anaconda3\\lib\\site-packages\\sklearn\\metrics\\scorer.py:100: DeprecationWarning: Scoring method mean_squared_error was renamed to neg_mean_squared_error in version 0.18 and will be removed in 0.20.\n",
      "  sample_weight=sample_weight)\n"
     ]
    }
   ],
   "source": [
    "from sklearn.model_selection import cross_val_score\n",
    "t = cross_val_score(regr, train, np.log1p(labels), scoring=\"mean_squared_error\", cv=cv).mean()"
   ]
  },
  {
   "cell_type": "code",
   "execution_count": 24,
   "metadata": {},
   "outputs": [
    {
     "name": "stdout",
     "output_type": "stream",
     "text": [
      "-2153\n"
     ]
    }
   ],
   "source": [
    "print(int(100000*t))"
   ]
  },
  {
   "cell_type": "markdown",
   "metadata": {},
   "source": [
    "Лучший результат на Kaggle для линейной регрессии - 0.13284. Но из-за постоянных экспериментов я потерял те параметры, с которыми этот результат был достигнут. Текущие параметры дают результат чуть хуже.\n",
    "https://www.kaggle.com/pavelkuleshov\n"
   ]
  },
  {
   "cell_type": "markdown",
   "metadata": {},
   "source": [
    "DecisionTreeRegressor"
   ]
  },
  {
   "cell_type": "code",
   "execution_count": null,
   "metadata": {},
   "outputs": [],
   "source": [
    "import numpy as np\n",
    "from sklearn.tree import DecisionTreeRegressor\n",
    "import matplotlib.pyplot as plt"
   ]
  },
  {
   "cell_type": "code",
   "execution_count": null,
   "metadata": {},
   "outputs": [],
   "source": [
    "regr_1 = DecisionTreeRegressor(max_depth=3, random_state=10)\n",
    "regr_2 = DecisionTreeRegressor(max_depth=5, random_state=10)\n",
    "regr_1.fit(train, np.log1p(labels))\n",
    "regr_2.fit(train, np.log1p(labels))"
   ]
  },
  {
   "cell_type": "code",
   "execution_count": null,
   "metadata": {},
   "outputs": [],
   "source": [
    "print(cross_val_score(regr_1, train, np.log1p(labels), scoring=\"mean_squared_error\", cv=cv).mean())\n",
    "print(cross_val_score(regr_2, train, np.log1p(labels), scoring=\"mean_squared_error\", cv=cv).mean())"
   ]
  },
  {
   "cell_type": "code",
   "execution_count": null,
   "metadata": {},
   "outputs": [],
   "source": [
    "preds = regr_2.predict(test)\n",
    "submit(np.expm1(preds))"
   ]
  },
  {
   "cell_type": "markdown",
   "metadata": {},
   "source": [
    "RandomForest"
   ]
  },
  {
   "cell_type": "code",
   "execution_count": null,
   "metadata": {},
   "outputs": [],
   "source": [
    "import numpy as np\n",
    "from sklearn.ensemble import RandomForestClassifier\n",
    "from sklearn import datasets\n",
    "from sklearn.model_selection import train_test_split\n",
    "from sklearn.feature_selection import SelectFromModel\n",
    "from sklearn.metrics import accuracy_score\n",
    "\n",
    "rf = RandomForestClassifier(n_estimators=100)"
   ]
  },
  {
   "cell_type": "code",
   "execution_count": null,
   "metadata": {
    "scrolled": true
   },
   "outputs": [],
   "source": [
    "rf.fit(train, labels)\n",
    "\n",
    "importances = rf.feature_importances_\n",
    "std = np.std([tree.feature_importances_ for tree in rf.estimators_], axis=0)\n",
    "indices = np.argsort(importances)[::-1]\n",
    "\n",
    "plt.figure(figsize=(20, 8))\n",
    "plt.title(\"Feature importances\")\n",
    "plt.bar(range(train.shape[1]), importances[indices],\n",
    "       color=\"r\", yerr=std[indices], align=\"center\")\n",
    "plt.xticks(range(train.shape[1]), train.columns[indices])\n",
    "plt.xlim([-1, train.shape[1]])\n",
    "plt.show()"
   ]
  },
  {
   "cell_type": "code",
   "execution_count": null,
   "metadata": {},
   "outputs": [],
   "source": [
    "for feature in zip(train.columns, rf.feature_importances_):\n",
    "    print(feature)"
   ]
  },
  {
   "cell_type": "code",
   "execution_count": null,
   "metadata": {},
   "outputs": [],
   "source": [
    "rr = np.array(train.columns)\n",
    "rrr = np.stack((rf.feature_importances_,rr), axis=-1)\n",
    "rrr = np.sort(rrr, axis=0,)"
   ]
  },
  {
   "cell_type": "code",
   "execution_count": null,
   "metadata": {},
   "outputs": [],
   "source": [
    "dr = []\n",
    "for i in range(50):\n",
    "    dr.append(rrr[len(rrr)-1-i,1])"
   ]
  },
  {
   "cell_type": "code",
   "execution_count": null,
   "metadata": {},
   "outputs": [],
   "source": [
    "train = train[dr]\n",
    "test = test[dr]"
   ]
  },
  {
   "cell_type": "code",
   "execution_count": null,
   "metadata": {},
   "outputs": [],
   "source": [
    "from sklearn.grid_search import GridSearchCV\n",
    "\n",
    "rf = RandomForestClassifier(n_estimators=100, bootstrap=True)\n",
    "params = {\n",
    "    'n_estimators': [50, 100, 500]\n",
    "}\n",
    "gsv = GridSearchCV(estimator=rf, param_grid=params, scoring='accuracy', cv=3, verbose=1)\n",
    "gsv.fit(train, labels)"
   ]
  },
  {
   "cell_type": "code",
   "execution_count": null,
   "metadata": {},
   "outputs": [],
   "source": [
    "print(gsv.best_params_, gsv.best_score_)"
   ]
  },
  {
   "cell_type": "code",
   "execution_count": null,
   "metadata": {},
   "outputs": [],
   "source": [
    "preds = gsv.predict(test)\n",
    "submit(preds)"
   ]
  },
  {
   "cell_type": "code",
   "execution_count": null,
   "metadata": {},
   "outputs": [],
   "source": [
    "gsv.score(train,labels)"
   ]
  },
  {
   "cell_type": "code",
   "execution_count": null,
   "metadata": {
    "scrolled": true
   },
   "outputs": [],
   "source": [
    "cross_val_score(gsv, train, labels, scoring='accuracy')"
   ]
  },
  {
   "cell_type": "markdown",
   "metadata": {},
   "source": [
    "GradientBoostingRegressor"
   ]
  },
  {
   "cell_type": "code",
   "execution_count": null,
   "metadata": {},
   "outputs": [],
   "source": [
    "import numpy as np\n",
    "import matplotlib.pyplot as plt\n",
    "\n",
    "from sklearn import ensemble\n",
    "from sklearn import datasets\n",
    "from sklearn.utils import shuffle\n",
    "from sklearn.metrics import mean_squared_error"
   ]
  },
  {
   "cell_type": "code",
   "execution_count": null,
   "metadata": {},
   "outputs": [],
   "source": [
    "params = {'n_estimators': 500, 'max_depth': 4, 'min_samples_split': 2,\n",
    "          'learning_rate': 0.01, 'loss': 'ls'}\n",
    "clf = ensemble.GradientBoostingRegressor(**params)\n",
    "\n",
    "clf.fit(train, labels)\n",
    "print(cross_val_score(clf, train, np.log1p(labels), scoring=\"mean_squared_error\", cv=cv).mean())"
   ]
  },
  {
   "cell_type": "code",
   "execution_count": null,
   "metadata": {},
   "outputs": [],
   "source": [
    "preds = clf.predict(test)\n",
    "submit(preds)"
   ]
  },
  {
   "cell_type": "code",
   "execution_count": null,
   "metadata": {},
   "outputs": [],
   "source": [
    "# Plot feature importance\n",
    "feature_importance = clf.feature_importances_\n",
    "# make importances relative to max importance\n",
    "feature_importance = 100.0 * (feature_importance / feature_importance.max())\n",
    "sorted_idx = np.argsort(feature_importance)\n",
    "pos = np.arange(sorted_idx.shape[0]) + .5\n",
    "plt.subplot(1, 2, 2)\n",
    "plt.barh(pos, feature_importance[sorted_idx], align='center')\n",
    "plt.yticks(pos, train.columns[sorted_idx])\n",
    "plt.xlabel('Relative Importance')\n",
    "plt.title('Variable Importance')\n",
    "plt.show()"
   ]
  },
  {
   "cell_type": "code",
   "execution_count": null,
   "metadata": {},
   "outputs": [],
   "source": [
    "rr = np.array(train.columns[sorted_idx])"
   ]
  },
  {
   "cell_type": "code",
   "execution_count": null,
   "metadata": {},
   "outputs": [],
   "source": [
    "dr = []\n",
    "for i in range(50):\n",
    "    dr.append(rr[len(rr)-1-i])"
   ]
  },
  {
   "cell_type": "code",
   "execution_count": null,
   "metadata": {},
   "outputs": [],
   "source": [
    "train = train[dr]\n",
    "test = test[dr]"
   ]
  },
  {
   "cell_type": "code",
   "execution_count": null,
   "metadata": {},
   "outputs": [],
   "source": []
  }
 ],
 "metadata": {
  "kernelspec": {
   "display_name": "Python 3",
   "language": "python",
   "name": "python3"
  },
  "language_info": {
   "codemirror_mode": {
    "name": "ipython",
    "version": 3
   },
   "file_extension": ".py",
   "mimetype": "text/x-python",
   "name": "python",
   "nbconvert_exporter": "python",
   "pygments_lexer": "ipython3",
   "version": "3.6.4"
  }
 },
 "nbformat": 4,
 "nbformat_minor": 2
}
