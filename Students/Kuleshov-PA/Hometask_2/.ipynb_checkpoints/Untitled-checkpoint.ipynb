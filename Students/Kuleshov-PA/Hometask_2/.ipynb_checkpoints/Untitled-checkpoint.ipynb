{
 "cells": [
  {
   "cell_type": "code",
   "execution_count": 1,
   "metadata": {},
   "outputs": [],
   "source": [
    "import pandas as pd\n",
    "import numpy as np\n",
    "import matplotlib.pyplot as plt\n",
    "%matplotlib inline\n",
    "import seaborn as sns"
   ]
  },
  {
   "cell_type": "code",
   "execution_count": 2,
   "metadata": {},
   "outputs": [],
   "source": [
    "train = pd.read_csv(\"train.csv\", header = 0)\n",
    "test = pd.read_csv(\"test.csv\", header = 0)\n",
    "labels = train.SalePrice"
   ]
  },
  {
   "cell_type": "code",
   "execution_count": 3,
   "metadata": {},
   "outputs": [],
   "source": [
    "train_temp = train[\"SalePrice\"].copy()"
   ]
  },
  {
   "cell_type": "code",
   "execution_count": 4,
   "metadata": {},
   "outputs": [],
   "source": [
    "train.drop([\"Id\", \"SalePrice\"], axis=1, inplace=True)\n",
    "test.drop([\"Id\"], axis=1, inplace=True)"
   ]
  },
  {
   "cell_type": "code",
   "execution_count": 5,
   "metadata": {},
   "outputs": [
    {
     "name": "stdout",
     "output_type": "stream",
     "text": [
      "Name           \tNaNs\t#unique\n",
      "MSSubClass     \t0.0000\t15\n",
      "MSZoning       \t0.0000\t5\n",
      "LotFrontage    \t0.1774\t110\n",
      "LotArea        \t0.0000\t1073\n",
      "Street         \t0.0000\t2\n",
      "Alley          \t0.9377\t2\n",
      "LotShape       \t0.0000\t4\n",
      "LandContour    \t0.0000\t4\n",
      "Utilities      \t0.0000\t2\n",
      "LotConfig      \t0.0000\t5\n",
      "LandSlope      \t0.0000\t3\n",
      "Neighborhood   \t0.0000\t25\n",
      "Condition1     \t0.0000\t9\n",
      "Condition2     \t0.0000\t8\n",
      "BldgType       \t0.0000\t5\n",
      "HouseStyle     \t0.0000\t8\n",
      "OverallQual    \t0.0000\t10\n",
      "OverallCond    \t0.0000\t9\n",
      "YearBuilt      \t0.0000\t112\n",
      "YearRemodAdd   \t0.0000\t61\n",
      "RoofStyle      \t0.0000\t6\n",
      "RoofMatl       \t0.0000\t8\n",
      "Exterior1st    \t0.0000\t15\n",
      "Exterior2nd    \t0.0000\t16\n",
      "MasVnrType     \t0.0055\t4\n",
      "MasVnrArea     \t0.0055\t327\n",
      "ExterQual      \t0.0000\t4\n",
      "ExterCond      \t0.0000\t5\n",
      "Foundation     \t0.0000\t6\n",
      "BsmtQual       \t0.0253\t4\n",
      "BsmtCond       \t0.0253\t4\n",
      "BsmtExposure   \t0.0260\t4\n",
      "BsmtFinType1   \t0.0253\t6\n",
      "BsmtFinSF1     \t0.0000\t637\n",
      "BsmtFinType2   \t0.0260\t6\n",
      "BsmtFinSF2     \t0.0000\t144\n",
      "BsmtUnfSF      \t0.0000\t780\n",
      "TotalBsmtSF    \t0.0000\t721\n",
      "Heating        \t0.0000\t6\n",
      "HeatingQC      \t0.0000\t5\n",
      "CentralAir     \t0.0000\t2\n",
      "Electrical     \t0.0007\t5\n",
      "1stFlrSF       \t0.0000\t753\n",
      "2ndFlrSF       \t0.0000\t417\n",
      "LowQualFinSF   \t0.0000\t24\n",
      "GrLivArea      \t0.0000\t861\n",
      "BsmtFullBath   \t0.0000\t4\n",
      "BsmtHalfBath   \t0.0000\t3\n",
      "FullBath       \t0.0000\t4\n",
      "HalfBath       \t0.0000\t3\n",
      "BedroomAbvGr   \t0.0000\t8\n",
      "KitchenAbvGr   \t0.0000\t4\n",
      "KitchenQual    \t0.0000\t4\n",
      "TotRmsAbvGrd   \t0.0000\t12\n",
      "Functional     \t0.0000\t7\n",
      "Fireplaces     \t0.0000\t4\n",
      "FireplaceQu    \t0.4726\t5\n",
      "GarageType     \t0.0555\t6\n",
      "GarageYrBlt    \t0.0555\t97\n",
      "GarageFinish   \t0.0555\t3\n",
      "GarageCars     \t0.0000\t5\n",
      "GarageArea     \t0.0000\t441\n",
      "GarageQual     \t0.0555\t5\n",
      "GarageCond     \t0.0555\t5\n",
      "PavedDrive     \t0.0000\t3\n",
      "WoodDeckSF     \t0.0000\t274\n",
      "OpenPorchSF    \t0.0000\t202\n",
      "EnclosedPorch  \t0.0000\t120\n",
      "3SsnPorch      \t0.0000\t20\n",
      "ScreenPorch    \t0.0000\t76\n",
      "PoolArea       \t0.0000\t8\n",
      "PoolQC         \t0.9952\t3\n",
      "Fence          \t0.8075\t4\n",
      "MiscFeature    \t0.9630\t4\n",
      "MiscVal        \t0.0000\t21\n",
      "MoSold         \t0.0000\t12\n",
      "YrSold         \t0.0000\t5\n",
      "SaleType       \t0.0000\t9\n",
      "SaleCondition  \t0.0000\t6\n"
     ]
    }
   ],
   "source": [
    "print(\"{0:15}\\t{1}\\t{2}\".format(\"Name\", \"NaNs\", \"#unique\"))\n",
    "for col in train.columns:\n",
    "    print(\"{0:15}\\t{1:.4f}\\t{2}\".format(col, train[col].isnull().mean(), train[col].nunique()))"
   ]
  },
  {
   "cell_type": "markdown",
   "metadata": {},
   "source": [
    "Здесь представлены, как количественные (площадь участка, кол-во комнат, площадь этажей и т.п.), так и качественные (класс здания, год постройки, форма участка, материал крыши и т.п.) признаки. Также можем выделить набор признаков для описания гаража, набор для описания подвала, для жилой части здания и т.п."
   ]
  },
  {
   "cell_type": "code",
   "execution_count": 6,
   "metadata": {},
   "outputs": [],
   "source": [
    "all = pd.concat([train, test], axis=0)"
   ]
  },
  {
   "cell_type": "code",
   "execution_count": 7,
   "metadata": {},
   "outputs": [],
   "source": [
    "to_drop = [\"Street\",\"Utilities\",\"MiscFeature\"]\n",
    "all.drop(to_drop, axis=1, inplace=True, errors=\"ignore\")\n",
    "\n",
    "to_replace_to_none = [\"Fence\", \"FireplaceQu\", \"Alley\",\"MasVnrType\",\"BsmtQual\",\"BsmtCond\",\"BsmtExposure\",\"BsmtFinType1\"\n",
    "                     ,\"BsmtFinType2\",\"Electrical\",\"GarageType\",\"GarageFinish\",\"GarageQual\",\"GarageCond\",\"PoolQC\"]\n",
    "for col in to_replace_to_none:\n",
    "    all[col].fillna(\"No\" + col, inplace=True)\n",
    "    \n",
    "#to_replace_to_zero = [\"BsmtFinSF1\", \"BsmtFinSF2\", \"BsmtUnfSF\",\"TotalBsmtSF\",\"BsmtHalfBath\"\n",
    "#                     ,\"MasVnrArea\",\"GarageArea\",\"BsmtFullBath\"]\n",
    "#for col in to_replace_to_zero:\n",
    "#    all[col].fillna(0, inplace=True)\n",
    "    \n",
    "#to_replace_to_avg = [\"LotFrontage\"]\n",
    "#for col in to_replace_to_avg:\n",
    "#    all[col].fillna(all[col].mean(), inplace=True)\n",
    "    \n",
    "all[\"KitchenQual\"].fillna(\"TA\", inplace=True)\n",
    "    \n",
    "all.fillna(0, inplace=True)"
   ]
  },
  {
   "cell_type": "code",
   "execution_count": 8,
   "metadata": {},
   "outputs": [],
   "source": [
    "def binarize(data, columns):\n",
    "    \"\"\"\n",
    "    binarize feature\n",
    "    \n",
    "    data: pd.csv dataset\n",
    "    columns: list of cstegorical columns to process\n",
    "    \"\"\"\n",
    "    binarized_data = data.copy()\n",
    "    for column in columns:\n",
    "        unique_items = set(data[column])\n",
    "        for unique_item in unique_items:\n",
    "            new_column = []\n",
    "            for item in data[column]:\n",
    "                new_column.append(int(item==unique_item))\n",
    "            binarized_data[column+'_'+str(unique_item)] = new_column\n",
    "        binarized_data.drop(column, axis=1, inplace=True)\n",
    "    return binarized_data"
   ]
  },
  {
   "cell_type": "code",
   "execution_count": 9,
   "metadata": {},
   "outputs": [
    {
     "data": {
      "text/html": [
       "<div>\n",
       "<style scoped>\n",
       "    .dataframe tbody tr th:only-of-type {\n",
       "        vertical-align: middle;\n",
       "    }\n",
       "\n",
       "    .dataframe tbody tr th {\n",
       "        vertical-align: top;\n",
       "    }\n",
       "\n",
       "    .dataframe thead th {\n",
       "        text-align: right;\n",
       "    }\n",
       "</style>\n",
       "<table border=\"1\" class=\"dataframe\">\n",
       "  <thead>\n",
       "    <tr style=\"text-align: right;\">\n",
       "      <th></th>\n",
       "      <th>LotArea</th>\n",
       "      <th>LotFrontage</th>\n",
       "      <th>YearBuilt</th>\n",
       "    </tr>\n",
       "  </thead>\n",
       "  <tbody>\n",
       "    <tr>\n",
       "      <th>count</th>\n",
       "      <td>2919.000000</td>\n",
       "      <td>2919.000000</td>\n",
       "      <td>2919.000000</td>\n",
       "    </tr>\n",
       "    <tr>\n",
       "      <th>mean</th>\n",
       "      <td>10168.114080</td>\n",
       "      <td>57.766701</td>\n",
       "      <td>1971.312778</td>\n",
       "    </tr>\n",
       "    <tr>\n",
       "      <th>std</th>\n",
       "      <td>7886.996359</td>\n",
       "      <td>33.481636</td>\n",
       "      <td>30.291442</td>\n",
       "    </tr>\n",
       "    <tr>\n",
       "      <th>min</th>\n",
       "      <td>1300.000000</td>\n",
       "      <td>0.000000</td>\n",
       "      <td>1872.000000</td>\n",
       "    </tr>\n",
       "    <tr>\n",
       "      <th>25%</th>\n",
       "      <td>7478.000000</td>\n",
       "      <td>43.000000</td>\n",
       "      <td>1953.500000</td>\n",
       "    </tr>\n",
       "    <tr>\n",
       "      <th>50%</th>\n",
       "      <td>9453.000000</td>\n",
       "      <td>63.000000</td>\n",
       "      <td>1973.000000</td>\n",
       "    </tr>\n",
       "    <tr>\n",
       "      <th>75%</th>\n",
       "      <td>11570.000000</td>\n",
       "      <td>78.000000</td>\n",
       "      <td>2001.000000</td>\n",
       "    </tr>\n",
       "    <tr>\n",
       "      <th>max</th>\n",
       "      <td>215245.000000</td>\n",
       "      <td>313.000000</td>\n",
       "      <td>2010.000000</td>\n",
       "    </tr>\n",
       "  </tbody>\n",
       "</table>\n",
       "</div>"
      ],
      "text/plain": [
       "             LotArea  LotFrontage    YearBuilt\n",
       "count    2919.000000  2919.000000  2919.000000\n",
       "mean    10168.114080    57.766701  1971.312778\n",
       "std      7886.996359    33.481636    30.291442\n",
       "min      1300.000000     0.000000  1872.000000\n",
       "25%      7478.000000    43.000000  1953.500000\n",
       "50%      9453.000000    63.000000  1973.000000\n",
       "75%     11570.000000    78.000000  2001.000000\n",
       "max    215245.000000   313.000000  2010.000000"
      ]
     },
     "execution_count": 9,
     "metadata": {},
     "output_type": "execute_result"
    }
   ],
   "source": [
    "all[['LotArea', 'LotFrontage', 'YearBuilt']].describe()"
   ]
  },
  {
   "cell_type": "code",
   "execution_count": 10,
   "metadata": {},
   "outputs": [],
   "source": [
    "all = binarize(all, [\"LandContour\",\"LotConfig\",\"LotShape\",\"LandSlope\",\"Neighborhood\",\"BldgType\",\"HouseStyle\", \"ExterQual\"\n",
    "                     ,\"CentralAir\", \"SaleCondition\", \"PavedDrive\", \"KitchenQual\"\n",
    "                    ])"
   ]
  },
  {
   "cell_type": "code",
   "execution_count": 11,
   "metadata": {},
   "outputs": [],
   "source": [
    "categorial = [\"Condition1\", \"Condition2\", \"FireplaceQu\",\"Exterior1st\", \"Exterior2nd\", \"RoofMatl\",\"Alley\"\n",
    "              , \"MasVnrType\",\"ExterCond\",\"RoofStyle\", \"Electrical\", \"Heating\",\"SaleType\", \"HeatingQC\"\n",
    "                  , \"Foundation\", \"BsmtQual\", \"BsmtCond\", \"BsmtFinType1\", \"BsmtFinType2\",\"MSZoning\"\n",
    "                   , \"Functional\", \"GarageFinish\", \"BsmtExposure\",\"GarageType\", \"Fence\"\n",
    "                    , \"GarageQual\", \"GarageCond\"]\n",
    "for col in categorial:\n",
    "    all[col] = all[col].factorize()[0]"
   ]
  },
  {
   "cell_type": "markdown",
   "metadata": {},
   "source": [
    "to_drop = ['GarageArea', 'GarageYrBlt', \"PoolQC\", \"MSSubClass\",\"MoSold\"\n",
    "          , \"Electrical\", \"Heating\", \"Functional\", \"FireplaceQu\"\n",
    "          ,\"SaleType\",\"ScreenPorch\",\"YearRemodAdd\",\"BsmtFullBath\",\"BsmtHalfBath\"\n",
    "          ,\"BsmtFinSF1\",\"BsmtFinSF2\",\"BsmtUnfSF\",\"1stFlrSF\",\"2ndFlrSF\",\"LowQualFinSF\"\n",
    "          , \"GarageCond\", \"WoodDeckSF\", \"OpenPorchSF\", \"EnclosedPorch\", \"3SsnPorch\", \"ScreenPorch\"\n",
    "          #,\"BsmtHalfBath\"\n",
    "          ]\n",
    "all = all.drop(to_drop, axis=1)"
   ]
  },
  {
   "cell_type": "code",
   "execution_count": 12,
   "metadata": {},
   "outputs": [],
   "source": [
    "to_drop = ['GarageArea', 'GarageYrBlt', \"PoolQC\", \"MSSubClass\", \"MoSold\"]\n",
    "all = all.drop(to_drop, axis=1)"
   ]
  },
  {
   "cell_type": "code",
   "execution_count": 13,
   "metadata": {},
   "outputs": [],
   "source": [
    "buck = [\"YearBuilt\"#,\"GrLivArea\",\"TotalBsmtSF\"        ,\"LotArea\",\"LotFrontage\"\n",
    "       ]\n",
    "coef = [[1850,1940,1960,1980,1990,2000,2005,2100],\n",
    "        #[100,500,1000,1500,2000,10000],\n",
    "       # [100,500,1000,1500,10000],\n",
    "        #[1000,3000,5000,7000,9000,11000,13000,15000,17000,20000,20000000],\n",
    "       # [20,50,100,10000]\n",
    "       ]"
   ]
  },
  {
   "cell_type": "code",
   "execution_count": 14,
   "metadata": {},
   "outputs": [],
   "source": [
    "for x in range(len(buck)):\n",
    "    bucketed = np.array(all[buck[x]])\n",
    "    for y in range(len(coef[x])-1):\n",
    "        bucketed[(bucketed >= coef[x][y]) & (bucketed < coef[x][y+1])] = coef[x][y]\n",
    "    all[buck[x]] = bucketed"
   ]
  },
  {
   "cell_type": "code",
   "execution_count": 15,
   "metadata": {},
   "outputs": [],
   "source": [
    "to_flat = [\"TotRmsAbvGrd\",\"HalfBath\",\"BedroomAbvGr\",\"GarageCars\",\"PoolArea\"]#,\"YearBuilt\",\"GrLivArea\",\"LotArea\",\"LotFrontage\"]\n",
    "    #,\"BsmtFullBath\",\"BsmtHalfBath\"]\n",
    "coef = [10,1,4,3,100]#,2015,2500,20000,100]\n",
    "for x in range(len(to_flat)):\n",
    "    flatten = np.array(all[to_flat[x]]) \n",
    "    flatten[flatten >= coef[x]] = coef[x]\n",
    "    all[to_flat[x]] = flatten"
   ]
  },
  {
   "cell_type": "markdown",
   "metadata": {
    "scrolled": true
   },
   "source": [
    "e = pd.Series(train_temp)\n",
    "train_temp = all.iloc[:train.shape[0]].astype('float').assign(e=e.values)\n",
    "corr_matrix1 = train_temp.corr().abs()\n",
    "upper1 = corr_matrix1.where(np.triu(np.ones(corr_matrix1.shape), k=1).astype(np.bool))\n",
    "upper1[\"e\"]"
   ]
  },
  {
   "cell_type": "markdown",
   "metadata": {
    "scrolled": true
   },
   "source": [
    "s1 = upper1[\"SalePrice\"]\n",
    "all = all.drop(s1[s1<0.05].index, axis=1)"
   ]
  },
  {
   "cell_type": "code",
   "execution_count": 16,
   "metadata": {},
   "outputs": [],
   "source": [
    "corr_matrix = all.corr().abs()\n",
    "upper = corr_matrix.where(np.triu(np.ones(corr_matrix.shape), k=1).astype(np.bool))"
   ]
  },
  {
   "cell_type": "code",
   "execution_count": 17,
   "metadata": {},
   "outputs": [],
   "source": [
    "train = all.iloc[:train.shape[0]].astype('float')\n",
    "test = all.iloc[train.shape[0]:].astype('float')"
   ]
  },
  {
   "cell_type": "markdown",
   "metadata": {},
   "source": [
    "Linear Regression"
   ]
  },
  {
   "cell_type": "code",
   "execution_count": 18,
   "metadata": {},
   "outputs": [],
   "source": [
    "import matplotlib.pyplot as plt\n",
    "import numpy as np\n",
    "from sklearn import datasets, linear_model\n",
    "from sklearn.metrics import mean_squared_error, r2_score\n",
    "from sklearn.model_selection import cross_val_score\n",
    "from sklearn.linear_model import LinearRegression\n",
    "from sklearn.linear_model import LogisticRegression"
   ]
  },
  {
   "cell_type": "code",
   "execution_count": 19,
   "metadata": {},
   "outputs": [],
   "source": [
    "def submit(preds):\n",
    "    submission = pd.read_csv(\"sample_submission.csv\")\n",
    "    submission[\"SalePrice\"] = preds\n",
    "    submission.to_csv(\"submission.csv\", index=False)"
   ]
  },
  {
   "cell_type": "code",
   "execution_count": 20,
   "metadata": {},
   "outputs": [],
   "source": [
    "regr = LinearRegression(normalize=True, n_jobs=1)\n",
    "regr.fit(train, np.log1p(labels))\n",
    "preds = regr.predict(test)\n",
    "submit(np.expm1(preds))"
   ]
  },
  {
   "cell_type": "code",
   "execution_count": 21,
   "metadata": {
    "scrolled": true
   },
   "outputs": [
    {
     "name": "stdout",
     "output_type": "stream",
     "text": [
      "Coefficients: \n",
      " [-5.01191443e-04 -4.55952435e-03 -1.39911834e-04  1.32301391e-06\n",
      "  1.25043021e-02 -7.25780820e-03 -2.93064806e-02  5.79582891e-02\n",
      "  3.59452408e-02  6.14152332e-04  7.42852353e-04  2.70675239e-02\n",
      " -4.04411685e-02  1.23810101e-03 -2.05863593e-03 -2.64145098e-03\n",
      " -3.45774962e-05 -1.40227125e-02 -1.41606173e-02  3.35105447e-03\n",
      " -9.14613880e-03  1.59701067e-03 -5.52362157e-03 -3.75414201e+08\n",
      " -3.57335967e-03 -3.75414201e+08 -3.75414201e+08  3.75414201e+08\n",
      " -1.24373703e-02 -1.27175292e-02  6.85307379e-03 -8.55876493e+08\n",
      " -8.55876493e+08 -8.55876493e+08  8.55876493e+08  4.52804318e-02\n",
      "  1.95565227e-02  4.82616508e-02  3.72123761e-02  5.62884236e-03\n",
      " -7.30122853e-02  1.30790783e-02 -2.37362349e-02  1.58547570e-02\n",
      "  7.99423168e-03 -1.07716621e-02  2.57474733e-03  5.89673820e-02\n",
      "  6.11044292e-03 -4.66595957e-04  1.19369287e-04  8.18530944e-05\n",
      "  1.30096629e-04  1.99977236e-04  3.28651423e-04 -1.30924561e-03\n",
      " -5.51146679e-03  1.49852581e-06 -8.75527016e-04 -4.18175358e-03\n",
      "  1.08875307e-02  4.66669249e+10  4.66669249e+10  4.66669249e+10\n",
      "  4.66669249e+10 -4.06756988e+11 -4.06756988e+11 -4.06756988e+11\n",
      " -4.06756988e+11 -4.06756988e+11  9.96753781e+11  9.96753781e+11\n",
      "  9.96753781e+11  9.96753781e+11  2.41600597e+11  2.41600597e+11\n",
      "  2.41600597e+11  7.45036739e+10  7.45036739e+10  7.45036739e+10\n",
      "  7.45036739e+10  7.45036739e+10  7.45036739e+10  7.45036739e+10\n",
      "  7.45036739e+10  7.45036739e+10  7.45036739e+10  7.45036739e+10\n",
      "  7.45036739e+10  7.45036739e+10  7.45036739e+10  7.45036739e+10\n",
      "  7.45036739e+10  7.45036739e+10  7.45036739e+10  7.45036739e+10\n",
      "  7.45036739e+10  7.45036739e+10  7.45036739e+10  7.45036739e+10\n",
      "  7.45036739e+10  7.45036739e+10  1.17113223e+12  1.17113223e+12\n",
      "  1.17113223e+12  1.17113223e+12  1.17113223e+12  2.03495019e+11\n",
      "  2.03495019e+11  2.03495019e+11  2.03495019e+11  2.03495019e+11\n",
      "  2.03495019e+11  2.03495019e+11  2.03495019e+11  5.40892459e+11\n",
      "  5.40892459e+11  5.40892459e+11  5.40892459e+11  2.30031600e+11\n",
      "  2.30031600e+11 -3.72100894e+11 -3.72100894e+11 -3.72100894e+11\n",
      " -3.72100894e+11 -3.72100894e+11 -3.72100894e+11 -2.62242062e+11\n",
      " -2.62242062e+11 -2.62242062e+11  2.76998097e+11  2.76998097e+11\n",
      "  2.76998097e+11  2.76998097e+11]\n"
     ]
    }
   ],
   "source": [
    "print('Coefficients: \\n', regr.coef_)"
   ]
  },
  {
   "cell_type": "code",
   "execution_count": 22,
   "metadata": {},
   "outputs": [],
   "source": [
    "from sklearn.model_selection import KFold\n",
    "\n",
    "cv = KFold(n_splits=7, random_state=0)"
   ]
  },
  {
   "cell_type": "code",
   "execution_count": 23,
   "metadata": {
    "scrolled": true
   },
   "outputs": [
    {
     "name": "stderr",
     "output_type": "stream",
     "text": [
      "C:\\Users\\ManaUlcho\\Anaconda3\\lib\\site-packages\\sklearn\\metrics\\scorer.py:100: DeprecationWarning: Scoring method mean_squared_error was renamed to neg_mean_squared_error in version 0.18 and will be removed in 0.20.\n",
      "  sample_weight=sample_weight)\n",
      "C:\\Users\\ManaUlcho\\Anaconda3\\lib\\site-packages\\sklearn\\metrics\\scorer.py:100: DeprecationWarning: Scoring method mean_squared_error was renamed to neg_mean_squared_error in version 0.18 and will be removed in 0.20.\n",
      "  sample_weight=sample_weight)\n",
      "C:\\Users\\ManaUlcho\\Anaconda3\\lib\\site-packages\\sklearn\\metrics\\scorer.py:100: DeprecationWarning: Scoring method mean_squared_error was renamed to neg_mean_squared_error in version 0.18 and will be removed in 0.20.\n",
      "  sample_weight=sample_weight)\n",
      "C:\\Users\\ManaUlcho\\Anaconda3\\lib\\site-packages\\sklearn\\metrics\\scorer.py:100: DeprecationWarning: Scoring method mean_squared_error was renamed to neg_mean_squared_error in version 0.18 and will be removed in 0.20.\n",
      "  sample_weight=sample_weight)\n",
      "C:\\Users\\ManaUlcho\\Anaconda3\\lib\\site-packages\\sklearn\\metrics\\scorer.py:100: DeprecationWarning: Scoring method mean_squared_error was renamed to neg_mean_squared_error in version 0.18 and will be removed in 0.20.\n",
      "  sample_weight=sample_weight)\n",
      "C:\\Users\\ManaUlcho\\Anaconda3\\lib\\site-packages\\sklearn\\metrics\\scorer.py:100: DeprecationWarning: Scoring method mean_squared_error was renamed to neg_mean_squared_error in version 0.18 and will be removed in 0.20.\n",
      "  sample_weight=sample_weight)\n",
      "C:\\Users\\ManaUlcho\\Anaconda3\\lib\\site-packages\\sklearn\\metrics\\scorer.py:100: DeprecationWarning: Scoring method mean_squared_error was renamed to neg_mean_squared_error in version 0.18 and will be removed in 0.20.\n",
      "  sample_weight=sample_weight)\n"
     ]
    }
   ],
   "source": [
    "from sklearn.model_selection import cross_val_score\n",
    "t = cross_val_score(regr, train, np.log1p(labels), scoring=\"mean_squared_error\", cv=cv).mean()"
   ]
  },
  {
   "cell_type": "code",
   "execution_count": 24,
   "metadata": {},
   "outputs": [
    {
     "name": "stdout",
     "output_type": "stream",
     "text": [
      "-2075\n"
     ]
    }
   ],
   "source": [
    "print(int(100000*t))"
   ]
  },
  {
   "cell_type": "markdown",
   "metadata": {},
   "source": [
    "Лучший результат на Kaggle для линейной регрессии - 0.13106\n",
    "https://www.kaggle.com/pavelkuleshov"
   ]
  },
  {
   "cell_type": "markdown",
   "metadata": {},
   "source": [
    "DecisionTreeRegressor"
   ]
  },
  {
   "cell_type": "code",
   "execution_count": 30,
   "metadata": {},
   "outputs": [],
   "source": [
    "import numpy as np\n",
    "from sklearn.tree import DecisionTreeRegressor\n",
    "import matplotlib.pyplot as plt"
   ]
  },
  {
   "cell_type": "code",
   "execution_count": 31,
   "metadata": {},
   "outputs": [
    {
     "data": {
      "text/plain": [
       "DecisionTreeRegressor(criterion='mse', max_depth=5, max_features=None,\n",
       "           max_leaf_nodes=None, min_impurity_decrease=0.0,\n",
       "           min_impurity_split=None, min_samples_leaf=1,\n",
       "           min_samples_split=2, min_weight_fraction_leaf=0.0,\n",
       "           presort=False, random_state=10, splitter='best')"
      ]
     },
     "execution_count": 31,
     "metadata": {},
     "output_type": "execute_result"
    }
   ],
   "source": [
    "regr_1 = DecisionTreeRegressor(max_depth=3, random_state=10)\n",
    "regr_2 = DecisionTreeRegressor(max_depth=5, random_state=10)\n",
    "regr_1.fit(train, np.log1p(labels))\n",
    "regr_2.fit(train, np.log1p(labels))"
   ]
  },
  {
   "cell_type": "code",
   "execution_count": 32,
   "metadata": {},
   "outputs": [
    {
     "name": "stdout",
     "output_type": "stream",
     "text": [
      "-0.051188214611993466\n",
      "-0.03905210738007333\n"
     ]
    },
    {
     "name": "stderr",
     "output_type": "stream",
     "text": [
      "C:\\Users\\ManaUlcho\\Anaconda3\\lib\\site-packages\\sklearn\\metrics\\scorer.py:100: DeprecationWarning: Scoring method mean_squared_error was renamed to neg_mean_squared_error in version 0.18 and will be removed in 0.20.\n",
      "  sample_weight=sample_weight)\n",
      "C:\\Users\\ManaUlcho\\Anaconda3\\lib\\site-packages\\sklearn\\metrics\\scorer.py:100: DeprecationWarning: Scoring method mean_squared_error was renamed to neg_mean_squared_error in version 0.18 and will be removed in 0.20.\n",
      "  sample_weight=sample_weight)\n",
      "C:\\Users\\ManaUlcho\\Anaconda3\\lib\\site-packages\\sklearn\\metrics\\scorer.py:100: DeprecationWarning: Scoring method mean_squared_error was renamed to neg_mean_squared_error in version 0.18 and will be removed in 0.20.\n",
      "  sample_weight=sample_weight)\n",
      "C:\\Users\\ManaUlcho\\Anaconda3\\lib\\site-packages\\sklearn\\metrics\\scorer.py:100: DeprecationWarning: Scoring method mean_squared_error was renamed to neg_mean_squared_error in version 0.18 and will be removed in 0.20.\n",
      "  sample_weight=sample_weight)\n",
      "C:\\Users\\ManaUlcho\\Anaconda3\\lib\\site-packages\\sklearn\\metrics\\scorer.py:100: DeprecationWarning: Scoring method mean_squared_error was renamed to neg_mean_squared_error in version 0.18 and will be removed in 0.20.\n",
      "  sample_weight=sample_weight)\n",
      "C:\\Users\\ManaUlcho\\Anaconda3\\lib\\site-packages\\sklearn\\metrics\\scorer.py:100: DeprecationWarning: Scoring method mean_squared_error was renamed to neg_mean_squared_error in version 0.18 and will be removed in 0.20.\n",
      "  sample_weight=sample_weight)\n",
      "C:\\Users\\ManaUlcho\\Anaconda3\\lib\\site-packages\\sklearn\\metrics\\scorer.py:100: DeprecationWarning: Scoring method mean_squared_error was renamed to neg_mean_squared_error in version 0.18 and will be removed in 0.20.\n",
      "  sample_weight=sample_weight)\n",
      "C:\\Users\\ManaUlcho\\Anaconda3\\lib\\site-packages\\sklearn\\metrics\\scorer.py:100: DeprecationWarning: Scoring method mean_squared_error was renamed to neg_mean_squared_error in version 0.18 and will be removed in 0.20.\n",
      "  sample_weight=sample_weight)\n",
      "C:\\Users\\ManaUlcho\\Anaconda3\\lib\\site-packages\\sklearn\\metrics\\scorer.py:100: DeprecationWarning: Scoring method mean_squared_error was renamed to neg_mean_squared_error in version 0.18 and will be removed in 0.20.\n",
      "  sample_weight=sample_weight)\n",
      "C:\\Users\\ManaUlcho\\Anaconda3\\lib\\site-packages\\sklearn\\metrics\\scorer.py:100: DeprecationWarning: Scoring method mean_squared_error was renamed to neg_mean_squared_error in version 0.18 and will be removed in 0.20.\n",
      "  sample_weight=sample_weight)\n",
      "C:\\Users\\ManaUlcho\\Anaconda3\\lib\\site-packages\\sklearn\\metrics\\scorer.py:100: DeprecationWarning: Scoring method mean_squared_error was renamed to neg_mean_squared_error in version 0.18 and will be removed in 0.20.\n",
      "  sample_weight=sample_weight)\n",
      "C:\\Users\\ManaUlcho\\Anaconda3\\lib\\site-packages\\sklearn\\metrics\\scorer.py:100: DeprecationWarning: Scoring method mean_squared_error was renamed to neg_mean_squared_error in version 0.18 and will be removed in 0.20.\n",
      "  sample_weight=sample_weight)\n",
      "C:\\Users\\ManaUlcho\\Anaconda3\\lib\\site-packages\\sklearn\\metrics\\scorer.py:100: DeprecationWarning: Scoring method mean_squared_error was renamed to neg_mean_squared_error in version 0.18 and will be removed in 0.20.\n",
      "  sample_weight=sample_weight)\n",
      "C:\\Users\\ManaUlcho\\Anaconda3\\lib\\site-packages\\sklearn\\metrics\\scorer.py:100: DeprecationWarning: Scoring method mean_squared_error was renamed to neg_mean_squared_error in version 0.18 and will be removed in 0.20.\n",
      "  sample_weight=sample_weight)\n"
     ]
    }
   ],
   "source": [
    "print(cross_val_score(regr_1, train, np.log1p(labels), scoring=\"mean_squared_error\", cv=cv).mean())\n",
    "print(cross_val_score(regr_2, train, np.log1p(labels), scoring=\"mean_squared_error\", cv=cv).mean())"
   ]
  },
  {
   "cell_type": "code",
   "execution_count": 33,
   "metadata": {},
   "outputs": [],
   "source": [
    "preds = regr_2.predict(test)\n",
    "submit(np.expm1(preds))"
   ]
  },
  {
   "cell_type": "markdown",
   "metadata": {},
   "source": [
    "RandomForest"
   ]
  },
  {
   "cell_type": "code",
   "execution_count": 34,
   "metadata": {},
   "outputs": [],
   "source": [
    "import numpy as np\n",
    "from sklearn.ensemble import RandomForestClassifier\n",
    "from sklearn import datasets\n",
    "from sklearn.model_selection import train_test_split\n",
    "from sklearn.feature_selection import SelectFromModel\n",
    "from sklearn.metrics import accuracy_score\n",
    "\n",
    "rf = RandomForestClassifier(n_estimators=100)"
   ]
  },
  {
   "cell_type": "code",
   "execution_count": 35,
   "metadata": {
    "scrolled": true
   },
   "outputs": [
    {
     "data": {
      "image/png": "[encoded data removed]",
      "text/plain": [
       "<matplotlib.figure.Figure at 0x1e0bdb76898>"
      ]
     },
     "metadata": {},
     "output_type": "display_data"
    }
   ],
   "source": [
    "rf.fit(train, labels)\n",
    "\n",
    "importances = rf.feature_importances_\n",
    "std = np.std([tree.feature_importances_ for tree in rf.estimators_], axis=0)\n",
    "indices = np.argsort(importances)[::-1]\n",
    "\n",
    "plt.figure(figsize=(20, 8))\n",
    "plt.title(\"Feature importances\")\n",
    "plt.bar(range(train.shape[1]), importances[indices],\n",
    "       color=\"r\", yerr=std[indices], align=\"center\")\n",
    "plt.xticks(range(train.shape[1]), train.columns[indices])\n",
    "plt.xlim([-1, train.shape[1]])\n",
    "plt.show()"
   ]
  },
  {
   "cell_type": "code",
   "execution_count": 36,
   "metadata": {},
   "outputs": [
    {
     "name": "stdout",
     "output_type": "stream",
     "text": [
      "('MSSubClass', 0.012666004614191418)\n",
      "('MSZoning', 0.006802600355692548)\n",
      "('LotFrontage', 0.02907306083439044)\n",
      "('LotArea', 0.03550595688524815)\n",
      "('Alley', 0.0034288169124601507)\n",
      "('Condition1', 0.008108533680658905)\n",
      "('Condition2', 0.001064516330431057)\n",
      "('OverallQual', 0.017625129679920234)\n",
      "('OverallCond', 0.014844577632145946)\n",
      "('YearBuilt', 0.014241536463941966)\n",
      "('YearRemodAdd', 0.02827274844246532)\n",
      "('RoofStyle', 0.008803184448240109)\n",
      "('RoofMatl', 0.001330824414154204)\n",
      "('Exterior1st', 0.016788928625994355)\n",
      "('Exterior2nd', 0.018250993357704373)\n",
      "('MasVnrType', 0.011866917481371449)\n",
      "('MasVnrArea', 0.02071943917017767)\n",
      "('ExterCond', 0.006039352225188793)\n",
      "('Foundation', 0.008348431233539512)\n",
      "('BsmtQual', 0.009100757061763593)\n",
      "('BsmtCond', 0.006104441356388118)\n",
      "('BsmtExposure', 0.013198655545832017)\n",
      "('BsmtFinType1', 0.0172194871094779)\n",
      "('BsmtFinSF1', 0.028432978698200214)\n",
      "('BsmtFinType2', 0.006502057578775894)\n",
      "('BsmtFinSF2', 0.008681134831852722)\n",
      "('BsmtUnfSF', 0.03510606921609279)\n",
      "('TotalBsmtSF', 0.034009699100577856)\n",
      "('Heating', 0.001837910194499699)\n",
      "('HeatingQC', 0.012967811863598279)\n",
      "('Electrical', 0.00426893003689112)\n",
      "('1stFlrSF', 0.03606435782494841)\n",
      "('2ndFlrSF', 0.01946462134530748)\n",
      "('LowQualFinSF', 0.0021615211152444538)\n",
      "('GrLivArea', 0.03540598393428291)\n",
      "('BsmtFullBath', 0.009204428266856371)\n",
      "('BsmtHalfBath', 0.00344716683204653)\n",
      "('FullBath', 0.006680365887008568)\n",
      "('HalfBath', 0.00720467440737842)\n",
      "('BedroomAbvGr', 0.01219821077984835)\n",
      "('KitchenAbvGr', 0.0016382209892331324)\n",
      "('TotRmsAbvGrd', 0.020142401246915752)\n",
      "('Functional', 0.004532549975071982)\n",
      "('Fireplaces', 0.010719897497057597)\n",
      "('FireplaceQu', 0.014408325706173572)\n",
      "('GarageType', 0.00993688997951263)\n",
      "('GarageFinish', 0.013211540350624244)\n",
      "('GarageCars', 0.010096818093581515)\n",
      "('GarageQual', 0.004395062446714427)\n",
      "('GarageCond', 0.0038805922518071025)\n",
      "('WoodDeckSF', 0.022410874366430734)\n",
      "('OpenPorchSF', 0.02432817278289213)\n",
      "('EnclosedPorch', 0.009117266156359261)\n",
      "('3SsnPorch', 0.0027931356290913077)\n",
      "('ScreenPorch', 0.007186088927203742)\n",
      "('PoolArea', 0.00042594822796184953)\n",
      "('Fence', 0.009874444134969618)\n",
      "('MiscVal', 0.0036996369630574472)\n",
      "('MoSold', 0.02978480598230907)\n",
      "('YrSold', 0.021906412632280787)\n",
      "('SaleType', 0.007221167970950432)\n",
      "('LandContour_HLS', 0.0023906855670529875)\n",
      "('LandContour_Low', 0.00196627670819523)\n",
      "('LandContour_Bnk', 0.0021542341458301445)\n",
      "('LandContour_Lvl', 0.00398290889099115)\n",
      "('LotConfig_Corner', 0.007246432202969912)\n",
      "('LotConfig_Inside', 0.008201498041366594)\n",
      "('LotConfig_FR2', 0.0029585086645956566)\n",
      "('LotConfig_CulDSac', 0.003512220475965156)\n",
      "('LotConfig_FR3', 0.0004231531794780454)\n",
      "('LotShape_Reg', 0.008155460711621005)\n",
      "('LotShape_IR3', 0.000834933547984781)\n",
      "('LotShape_IR1', 0.008513192504439429)\n",
      "('LotShape_IR2', 0.0019220208748750142)\n",
      "('LandSlope_Mod', 0.002242302029120175)\n",
      "('LandSlope_Sev', 0.0005679570330342766)\n",
      "('LandSlope_Gtl', 0.002299333568024271)\n",
      "('Neighborhood_Timber', 0.002329488142838291)\n",
      "('Neighborhood_ClearCr', 0.0012121994566698532)\n",
      "('Neighborhood_Blueste', 0.00019403227853529567)\n",
      "('Neighborhood_Edwards', 0.003559807299865636)\n",
      "('Neighborhood_NPkVill', 0.0007388489971891073)\n",
      "('Neighborhood_SWISU', 0.001375938340808458)\n",
      "('Neighborhood_Gilbert', 0.0029385654484493776)\n",
      "('Neighborhood_Veenker', 0.0011202269484337588)\n",
      "('Neighborhood_BrDale', 0.0006369334136047844)\n",
      "('Neighborhood_Sawyer', 0.0031985132194780157)\n",
      "('Neighborhood_Crawfor', 0.0025152120226850433)\n",
      "('Neighborhood_OldTown', 0.0027484492565272517)\n",
      "('Neighborhood_SawyerW', 0.0031479377865290246)\n",
      "('Neighborhood_NridgHt', 0.0020915286556171743)\n",
      "('Neighborhood_StoneBr', 0.001233911546246486)\n",
      "('Neighborhood_Blmngtn', 0.0009063549172680023)\n",
      "('Neighborhood_IDOTRR', 0.001592142523130233)\n",
      "('Neighborhood_Mitchel', 0.0022930363367730804)\n",
      "('Neighborhood_MeadowV', 0.0007287713268622531)\n",
      "('Neighborhood_BrkSide', 0.002173434979120414)\n",
      "('Neighborhood_CollgCr', 0.004842219101904556)\n",
      "('Neighborhood_NWAmes', 0.002813171484126998)\n",
      "('Neighborhood_NAmes', 0.0046662086427297555)\n",
      "('Neighborhood_Somerst', 0.002773151197200009)\n",
      "('Neighborhood_NoRidge', 0.0015992749452675824)\n",
      "('BldgType_1Fam', 0.003750322315384116)\n",
      "('BldgType_2fmCon', 0.0012147180511246118)\n",
      "('BldgType_Twnhs', 0.0016614545099469704)\n",
      "('BldgType_TwnhsE', 0.0029620799771481877)\n",
      "('BldgType_Duplex', 0.0013105954322181292)\n",
      "('HouseStyle_2.5Unf', 0.0006916145731053794)\n",
      "('HouseStyle_1Story', 0.006252763748265994)\n",
      "('HouseStyle_SFoyer', 0.001573253455412144)\n",
      "('HouseStyle_1.5Fin', 0.0033435890948103697)\n",
      "('HouseStyle_SLvl', 0.0028866705976828876)\n",
      "('HouseStyle_2Story', 0.0046837393785869)\n",
      "('HouseStyle_2.5Fin', 0.0004245843569433976)\n",
      "('HouseStyle_1.5Unf', 0.0008677673750365841)\n",
      "('ExterQual_TA', 0.004093001744609713)\n",
      "('ExterQual_Ex', 0.001436818313162088)\n",
      "('ExterQual_Gd', 0.004330657376866388)\n",
      "('ExterQual_Fa', 0.00040292445544460904)\n",
      "('CentralAir_Y', 0.0023256670266951886)\n",
      "('CentralAir_N', 0.002001893297813756)\n",
      "('SaleCondition_Alloca', 0.0005859328403896304)\n",
      "('SaleCondition_Normal', 0.006227498602734713)\n",
      "('SaleCondition_Family', 0.0015191724541789465)\n",
      "('SaleCondition_Partial', 0.0032840278701025422)\n",
      "('SaleCondition_AdjLand', 0.00032920690957572514)\n",
      "('SaleCondition_Abnorml', 0.003419453810726163)\n",
      "('PavedDrive_Y', 0.0027347718293443905)\n",
      "('PavedDrive_P', 0.001545941441174174)\n",
      "('PavedDrive_N', 0.002296182940157139)\n",
      "('KitchenQual_TA', 0.005729033622402541)\n",
      "('KitchenQual_Ex', 0.0026905393032308606)\n",
      "('KitchenQual_Gd', 0.00622689744810369)\n",
      "('KitchenQual_Fa', 0.0016436813492311324)\n"
     ]
    }
   ],
   "source": [
    "for feature in zip(train.columns, rf.feature_importances_):\n",
    "    print(feature)"
   ]
  },
  {
   "cell_type": "code",
   "execution_count": null,
   "metadata": {},
   "outputs": [],
   "source": [
    "rr = np.array(train.columns)\n",
    "rrr = np.stack((rf.feature_importances_,rr), axis=-1)\n",
    "rrr = np.sort(rrr, axis=0,)"
   ]
  },
  {
   "cell_type": "code",
   "execution_count": null,
   "metadata": {},
   "outputs": [],
   "source": [
    "dr = []\n",
    "for i in range(50):\n",
    "    dr.append(rrr[len(rrr)-1-i,1])"
   ]
  },
  {
   "cell_type": "code",
   "execution_count": null,
   "metadata": {},
   "outputs": [],
   "source": [
    "train = train[dr]\n",
    "test = test[dr]"
   ]
  },
  {
   "cell_type": "code",
   "execution_count": 37,
   "metadata": {},
   "outputs": [
    {
     "name": "stderr",
     "output_type": "stream",
     "text": [
      "C:\\Users\\ManaUlcho\\Anaconda3\\lib\\site-packages\\sklearn\\cross_validation.py:41: DeprecationWarning: This module was deprecated in version 0.18 in favor of the model_selection module into which all the refactored classes and functions are moved. Also note that the interface of the new CV iterators are different from that of this module. This module will be removed in 0.20.\n",
      "  \"This module will be removed in 0.20.\", DeprecationWarning)\n",
      "C:\\Users\\ManaUlcho\\Anaconda3\\lib\\site-packages\\sklearn\\grid_search.py:42: DeprecationWarning: This module was deprecated in version 0.18 in favor of the model_selection module into which all the refactored classes and functions are moved. This module will be removed in 0.20.\n",
      "  DeprecationWarning)\n",
      "C:\\Users\\ManaUlcho\\Anaconda3\\lib\\site-packages\\sklearn\\cross_validation.py:553: Warning: The least populated class in y has only 1 members, which is too few. The minimum number of labels for any class cannot be less than n_folds=3.\n",
      "  % (min_labels, self.n_folds)), Warning)\n"
     ]
    },
    {
     "name": "stdout",
     "output_type": "stream",
     "text": [
      "Fitting 3 folds for each of 3 candidates, totalling 9 fits\n"
     ]
    },
    {
     "name": "stderr",
     "output_type": "stream",
     "text": [
      "[Parallel(n_jobs=1)]: Done   9 out of   9 | elapsed:   37.4s finished\n"
     ]
    },
    {
     "data": {
      "text/plain": [
       "GridSearchCV(cv=3, error_score='raise',\n",
       "       estimator=RandomForestClassifier(bootstrap=True, class_weight=None, criterion='gini',\n",
       "            max_depth=None, max_features='auto', max_leaf_nodes=None,\n",
       "            min_impurity_decrease=0.0, min_impurity_split=None,\n",
       "            min_samples_leaf=1, min_samples_split=2,\n",
       "            min_weight_fraction_leaf=0.0, n_estimators=100, n_jobs=1,\n",
       "            oob_score=False, random_state=None, verbose=0,\n",
       "            warm_start=False),\n",
       "       fit_params={}, iid=True, n_jobs=1,\n",
       "       param_grid={'n_estimators': [50, 100, 500]},\n",
       "       pre_dispatch='2*n_jobs', refit=True, scoring='accuracy', verbose=1)"
      ]
     },
     "execution_count": 37,
     "metadata": {},
     "output_type": "execute_result"
    }
   ],
   "source": [
    "from sklearn.grid_search import GridSearchCV\n",
    "\n",
    "rf = RandomForestClassifier(n_estimators=100, bootstrap=True)\n",
    "params = {\n",
    "    'n_estimators': [50, 100, 500]\n",
    "}\n",
    "gsv = GridSearchCV(estimator=rf, param_grid=params, scoring='accuracy', cv=3, verbose=1)\n",
    "gsv.fit(train, labels)"
   ]
  },
  {
   "cell_type": "code",
   "execution_count": 38,
   "metadata": {},
   "outputs": [
    {
     "name": "stdout",
     "output_type": "stream",
     "text": [
      "{'n_estimators': 500} 0.01643835616438356\n"
     ]
    }
   ],
   "source": [
    "print(gsv.best_params_, gsv.best_score_)"
   ]
  },
  {
   "cell_type": "code",
   "execution_count": 39,
   "metadata": {},
   "outputs": [],
   "source": [
    "preds = gsv.predict(test)\n",
    "submit(preds)"
   ]
  },
  {
   "cell_type": "code",
   "execution_count": 40,
   "metadata": {},
   "outputs": [
    {
     "data": {
      "text/plain": [
       "1.0"
      ]
     },
     "execution_count": 40,
     "metadata": {},
     "output_type": "execute_result"
    }
   ],
   "source": [
    "gsv.score(train,labels)"
   ]
  },
  {
   "cell_type": "code",
   "execution_count": null,
   "metadata": {
    "scrolled": true
   },
   "outputs": [],
   "source": [
    "cross_val_score(gsv, train, labels, scoring='accuracy')"
   ]
  },
  {
   "cell_type": "markdown",
   "metadata": {},
   "source": [
    "GradientBoostingRegressor"
   ]
  },
  {
   "cell_type": "code",
   "execution_count": 25,
   "metadata": {},
   "outputs": [],
   "source": [
    "import numpy as np\n",
    "import matplotlib.pyplot as plt\n",
    "\n",
    "from sklearn import ensemble\n",
    "from sklearn import datasets\n",
    "from sklearn.utils import shuffle\n",
    "from sklearn.metrics import mean_squared_error"
   ]
  },
  {
   "cell_type": "code",
   "execution_count": 26,
   "metadata": {
    "scrolled": false
   },
   "outputs": [
    {
     "name": "stderr",
     "output_type": "stream",
     "text": [
      "C:\\Users\\ManaUlcho\\Anaconda3\\lib\\site-packages\\sklearn\\metrics\\scorer.py:100: DeprecationWarning: Scoring method mean_squared_error was renamed to neg_mean_squared_error in version 0.18 and will be removed in 0.20.\n",
      "  sample_weight=sample_weight)\n",
      "C:\\Users\\ManaUlcho\\Anaconda3\\lib\\site-packages\\sklearn\\metrics\\scorer.py:100: DeprecationWarning: Scoring method mean_squared_error was renamed to neg_mean_squared_error in version 0.18 and will be removed in 0.20.\n",
      "  sample_weight=sample_weight)\n",
      "C:\\Users\\ManaUlcho\\Anaconda3\\lib\\site-packages\\sklearn\\metrics\\scorer.py:100: DeprecationWarning: Scoring method mean_squared_error was renamed to neg_mean_squared_error in version 0.18 and will be removed in 0.20.\n",
      "  sample_weight=sample_weight)\n",
      "C:\\Users\\ManaUlcho\\Anaconda3\\lib\\site-packages\\sklearn\\metrics\\scorer.py:100: DeprecationWarning: Scoring method mean_squared_error was renamed to neg_mean_squared_error in version 0.18 and will be removed in 0.20.\n",
      "  sample_weight=sample_weight)\n",
      "C:\\Users\\ManaUlcho\\Anaconda3\\lib\\site-packages\\sklearn\\metrics\\scorer.py:100: DeprecationWarning: Scoring method mean_squared_error was renamed to neg_mean_squared_error in version 0.18 and will be removed in 0.20.\n",
      "  sample_weight=sample_weight)\n",
      "C:\\Users\\ManaUlcho\\Anaconda3\\lib\\site-packages\\sklearn\\metrics\\scorer.py:100: DeprecationWarning: Scoring method mean_squared_error was renamed to neg_mean_squared_error in version 0.18 and will be removed in 0.20.\n",
      "  sample_weight=sample_weight)\n"
     ]
    },
    {
     "name": "stdout",
     "output_type": "stream",
     "text": [
      "-0.017162387485369125\n"
     ]
    },
    {
     "name": "stderr",
     "output_type": "stream",
     "text": [
      "C:\\Users\\ManaUlcho\\Anaconda3\\lib\\site-packages\\sklearn\\metrics\\scorer.py:100: DeprecationWarning: Scoring method mean_squared_error was renamed to neg_mean_squared_error in version 0.18 and will be removed in 0.20.\n",
      "  sample_weight=sample_weight)\n"
     ]
    }
   ],
   "source": [
    "params = {'n_estimators': 500, 'max_depth': 4, 'min_samples_split': 2,\n",
    "          'learning_rate': 0.01, 'loss': 'ls'}\n",
    "clf = ensemble.GradientBoostingRegressor(**params)\n",
    "\n",
    "clf.fit(train, labels)\n",
    "print(cross_val_score(clf, train, np.log1p(labels), scoring=\"mean_squared_error\", cv=cv).mean())"
   ]
  },
  {
   "cell_type": "code",
   "execution_count": 27,
   "metadata": {},
   "outputs": [],
   "source": [
    "preds = clf.predict(test)\n",
    "submit(preds)"
   ]
  },
  {
   "cell_type": "code",
   "execution_count": 28,
   "metadata": {},
   "outputs": [
    {
     "data": {
      "image/png": "[encoded data removed]",
      "text/plain": [
       "<matplotlib.figure.Figure at 0x1e0bd740128>"
      ]
     },
     "metadata": {},
     "output_type": "display_data"
    }
   ],
   "source": [
    "# Plot feature importance\n",
    "feature_importance = clf.feature_importances_\n",
    "# make importances relative to max importance\n",
    "feature_importance = 100.0 * (feature_importance / feature_importance.max())\n",
    "sorted_idx = np.argsort(feature_importance)\n",
    "pos = np.arange(sorted_idx.shape[0]) + .5\n",
    "plt.subplot(1, 2, 2)\n",
    "plt.barh(pos, feature_importance[sorted_idx], align='center')\n",
    "plt.yticks(pos, train.columns[sorted_idx])\n",
    "plt.xlabel('Relative Importance')\n",
    "plt.title('Variable Importance')\n",
    "plt.show()"
   ]
  },
  {
   "cell_type": "code",
   "execution_count": 29,
   "metadata": {},
   "outputs": [],
   "source": [
    "rr = np.array(train.columns[sorted_idx])"
   ]
  },
  {
   "cell_type": "code",
   "execution_count": null,
   "metadata": {},
   "outputs": [],
   "source": [
    "dr = []\n",
    "for i in range(50):\n",
    "    dr.append(rr[len(rr)-1-i])"
   ]
  },
  {
   "cell_type": "code",
   "execution_count": null,
   "metadata": {},
   "outputs": [],
   "source": [
    "train = train[dr]\n",
    "test = test[dr]"
   ]
  },
  {
   "cell_type": "code",
   "execution_count": null,
   "metadata": {},
   "outputs": [],
   "source": []
  }
 ],
 "metadata": {
  "kernelspec": {
   "display_name": "Python 3",
   "language": "python",
   "name": "python3"
  },
  "language_info": {
   "codemirror_mode": {
    "name": "ipython",
    "version": 3
   },
   "file_extension": ".py",
   "mimetype": "text/x-python",
   "name": "python",
   "nbconvert_exporter": "python",
   "pygments_lexer": "ipython3",
   "version": "3.6.4"
  }
 },
 "nbformat": 4,
 "nbformat_minor": 2
}
